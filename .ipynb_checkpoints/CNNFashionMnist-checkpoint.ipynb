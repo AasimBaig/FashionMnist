{
  "nbformat": 4,
  "nbformat_minor": 0,
  "metadata": {
    "colab": {
      "name": "CNNFashionMnist.ipynb",
      "provenance": [],
      "collapsed_sections": []
    },
    "kernelspec": {
      "name": "python3",
      "display_name": "Python 3"
    },
    "accelerator": "TPU"
  },
  "cells": [
    {
      "cell_type": "code",
      "metadata": {
        "id": "mnQ1jVHVscg4",
        "colab_type": "code",
        "outputId": "af3b6825-b480-4c66-b5a4-7f4ac722e4a8",
        "colab": {
          "base_uri": "https://localhost:8080/",
          "height": 193
        }
      },
      "source": [
        "# Importing Libraries\n",
        "import tensorflow as tf # creating nn and machine learning functions\n",
        "import numpy as np # LinearAlgebra operations\n",
        "from tensorflow import keras # Easy for creating nn\n",
        "!pip install matplotlib # Installing Visualization library\n",
        "import matplotlib.pyplot as plt # Importing Visualization library\n",
        "import pandas as pd # For data manipulation\n",
        "print(tf.__version__) # Shows tensorflow version"
      ],
      "execution_count": 1,
      "outputs": [
        {
          "output_type": "stream",
          "text": [
            "Requirement already satisfied: matplotlib in /usr/local/lib/python3.6/dist-packages (3.0.3)\n",
            "Requirement already satisfied: numpy>=1.10.0 in /usr/local/lib/python3.6/dist-packages (from matplotlib) (1.16.5)\n",
            "Requirement already satisfied: pyparsing!=2.0.4,!=2.1.2,!=2.1.6,>=2.0.1 in /usr/local/lib/python3.6/dist-packages (from matplotlib) (2.4.2)\n",
            "Requirement already satisfied: kiwisolver>=1.0.1 in /usr/local/lib/python3.6/dist-packages (from matplotlib) (1.1.0)\n",
            "Requirement already satisfied: python-dateutil>=2.1 in /usr/local/lib/python3.6/dist-packages (from matplotlib) (2.5.3)\n",
            "Requirement already satisfied: cycler>=0.10 in /usr/local/lib/python3.6/dist-packages (from matplotlib) (0.10.0)\n",
            "Requirement already satisfied: setuptools in /usr/local/lib/python3.6/dist-packages (from kiwisolver>=1.0.1->matplotlib) (41.2.0)\n",
            "Requirement already satisfied: six>=1.5 in /usr/local/lib/python3.6/dist-packages (from python-dateutil>=2.1->matplotlib) (1.12.0)\n",
            "1.14.0\n"
          ],
          "name": "stdout"
        }
      ]
    },
    {
      "cell_type": "code",
      "metadata": {
        "id": "zDSYZyMRtMUD",
        "colab_type": "code",
        "outputId": "f254ee62-d277-4b7b-ae2f-86a7a6338665",
        "colab": {
          "base_uri": "https://localhost:8080/",
          "height": 173
        }
      },
      "source": [
        "# Loading data in fashion_mnist\n",
        "fashion_mnist = keras.datasets.fashion_mnist\n",
        "\n",
        "# X = images\n",
        "# y = labels\n",
        "\n",
        "# Tensorflow gives us data in train and test format otherwise we have to split the data!!\n",
        "(train_X, train_y),(test_X, test_y) = fashion_mnist.load_data()\n",
        "print(\"Dataset Loaded GLHF!!\")"
      ],
      "execution_count": 2,
      "outputs": [
        {
          "output_type": "stream",
          "text": [
            "Downloading data from https://storage.googleapis.com/tensorflow/tf-keras-datasets/train-labels-idx1-ubyte.gz\n",
            "32768/29515 [=================================] - 0s 0us/step\n",
            "Downloading data from https://storage.googleapis.com/tensorflow/tf-keras-datasets/train-images-idx3-ubyte.gz\n",
            "26427392/26421880 [==============================] - 1s 0us/step\n",
            "Downloading data from https://storage.googleapis.com/tensorflow/tf-keras-datasets/t10k-labels-idx1-ubyte.gz\n",
            "8192/5148 [===============================================] - 0s 0us/step\n",
            "Downloading data from https://storage.googleapis.com/tensorflow/tf-keras-datasets/t10k-images-idx3-ubyte.gz\n",
            "4423680/4422102 [==============================] - 0s 0us/step\n",
            "Dataset Loaded GLHF!!\n"
          ],
          "name": "stdout"
        }
      ]
    },
    {
      "cell_type": "code",
      "metadata": {
        "id": "u9gU1lQwuWub",
        "colab_type": "code",
        "colab": {}
      },
      "source": [
        "# Different types of classes in fashion mnist!!\n",
        "class_names = ['T-shirt/top', 'Trouser', 'Pullover', 'Dress', 'Coat',\n",
        "               'Sandal', 'Shirt', 'Sneaker', 'Bag', 'Ankle boot']"
      ],
      "execution_count": 0,
      "outputs": []
    },
    {
      "cell_type": "code",
      "metadata": {
        "id": "tWBQ8gVPu-6L",
        "colab_type": "code",
        "outputId": "714ed168-f1cc-48da-ec6b-d0cfae06f731",
        "colab": {
          "base_uri": "https://localhost:8080/",
          "height": 87
        }
      },
      "source": [
        "# Shapes of training and testing set this is used during our model creation\n",
        "print(\"train_X.shape\",train_X.shape) # op shows (60000,28,28) ie. 60000 images of 28x28 pixels\n",
        "print(\"test_X.shape\",test_X.shape)\n",
        "print(\"train_y.shape\",train_y.shape) # op show (60000) ie. 60000 labels for respective images\n",
        "print(\"test_y.shape\",test_y.shape)"
      ],
      "execution_count": 4,
      "outputs": [
        {
          "output_type": "stream",
          "text": [
            "train_X.shape (60000, 28, 28)\n",
            "test_X.shape (10000, 28, 28)\n",
            "train_y.shape (60000,)\n",
            "test_y.shape (10000,)\n"
          ],
          "name": "stdout"
        }
      ]
    },
    {
      "cell_type": "code",
      "metadata": {
        "id": "2glKSSt2vBMK",
        "colab_type": "code",
        "outputId": "4f8c60f0-e5cb-44c3-ccfb-22220223fdf6",
        "colab": {
          "base_uri": "https://localhost:8080/",
          "height": 283
        }
      },
      "source": [
        "# Visualizing the data using matplotlib\n",
        "# Crosscheck whether our labels are in sync with images ;p\n",
        "plt.figure()\n",
        "plt.imshow(train_X[400])\n",
        "plt.xlabel(class_names[train_y[400]])\n",
        "plt.colorbar()\n",
        "plt.grid(False)\n",
        "plt.show()"
      ],
      "execution_count": 11,
      "outputs": [
        {
          "output_type": "display_data",
          "data": {
            "image/png": "[encoded data removed]",
            "text/plain": [
              "<Figure size 432x288 with 2 Axes>"
            ]
          },
          "metadata": {
            "tags": []
          }
        }
      ]
    },
    {
      "cell_type": "code",
      "metadata": {
        "id": "A8OBsvKRWRp9",
        "colab_type": "code",
        "colab": {}
      },
      "source": [
        "## Lets make a validation set to optimize our model during training\n",
        "\n",
        "# Using handy function in sklearn we can easily spilt our data\n",
        "\n",
        "# random_state = 7 mean every time we split the data it will be in same set\n",
        "# test_size = 0.2 we will take 0.2% of our training data!\n",
        "from sklearn.model_selection import train_test_split\n",
        "x_train,x_val,y_train,y_val = train_test_split(train_X,train_y,test_size=0.2, random_state=7)"
      ],
      "execution_count": 0,
      "outputs": []
    },
    {
      "cell_type": "code",
      "metadata": {
        "id": "nXPVDAjgz3-v",
        "colab_type": "code",
        "colab": {}
      },
      "source": [
        "# Scaling the values between 0 to 1 instead 0 to 255\n",
        "# This is normalizing the data.!! Important stuff !!\n",
        "x_train = x_train / 255.0\n",
        "x_val = x_val/255.0\n",
        "test_X = test_X / 255.0"
      ],
      "execution_count": 0,
      "outputs": []
    },
    {
      "cell_type": "code",
      "metadata": {
        "id": "wmkJeLgdzUwD",
        "colab_type": "code",
        "outputId": "211ee504-52c1-4f28-e2f4-5286d061ade4",
        "colab": {
          "base_uri": "https://localhost:8080/",
          "height": 283
        }
      },
      "source": [
        "# As we can see the values on right bar are between 0 and 1 instead 0 and 255 :D\n",
        "plt.figure()\n",
        "plt.imshow(x_train[400])\n",
        "plt.xlabel(class_names[y_train[400]])\n",
        "plt.colorbar()\n",
        "plt.grid(False)\n",
        "plt.show()"
      ],
      "execution_count": 14,
      "outputs": [
        {
          "output_type": "display_data",
          "data": {
            "image/png": "[encoded data removed]",
            "text/plain": [
              "<Figure size 432x288 with 2 Axes>"
            ]
          },
          "metadata": {
            "tags": []
          }
        }
      ]
    },
    {
      "cell_type": "code",
      "metadata": {
        "id": "6saUVZRKzWm_",
        "colab_type": "code",
        "outputId": "f14190db-26a2-4dfe-9862-439ece6d2585",
        "colab": {
          "base_uri": "https://localhost:8080/",
          "height": 592
        }
      },
      "source": [
        "# Displaying first 25 images and verify its in correct format\n",
        "plt.figure(figsize=(10,10))\n",
        "for i in range(25):\n",
        "    plt.subplot(5,5,i+1)\n",
        "    plt.xticks([])\n",
        "    plt.yticks([])\n",
        "    plt.grid(False)\n",
        "    plt.imshow(x_train[i],cmap=plt.cm.binary)  # cmap = plt.cm.binary -> B/W colored image\n",
        "    plt.xlabel(class_names[y_train[i]]) # we convert number to class name to identify the images easily"
      ],
      "execution_count": 16,
      "outputs": [
        {
          "output_type": "display_data",
          "data": {
            "image/png": "[encoded data removed]",
            "text/plain": [
              "<Figure size 720x720 with 25 Axes>"
            ]
          },
          "metadata": {
            "tags": []
          }
        }
      ]
    },
    {
      "cell_type": "code",
      "metadata": {
        "id": "HT6PC8kdOBBI",
        "colab_type": "code",
        "colab": {
          "base_uri": "https://localhost:8080/",
          "height": 121
        },
        "outputId": "16ed0007-5e17-4b29-ce7c-77291dae5509"
      },
      "source": [
        "## One more time we will check our data shape\n",
        "x_train = x_train.reshape(x_train.shape[0],28,28,1)\n",
        "x_val = x_val.reshape(x_val.shape[0],28,28,1)\n",
        "test_X = test_X.reshape(test_X.shape[0],28,28,1)\n",
        "print(\"x_train.shape\",x_train.shape)\n",
        "print(\"y_train.shape\",y_train.shape)\n",
        "print(\"x_val.shape\",x_val.shape)\n",
        "print(\"y_val.shape\",y_val.shape)\n",
        "print(\"test_X.shape\",test_X.shape)\n",
        "print(\"test_X.shape\",test_X.shape)"
      ],
      "execution_count": 29,
      "outputs": [
        {
          "output_type": "stream",
          "text": [
            "x_train.shape (48000, 28, 28, 1)\n",
            "y_train.shape (48000,)\n",
            "x_val.shape (12000, 28, 28, 1)\n",
            "y_val.shape (12000,)\n",
            "test_X.shape (10000, 28, 28, 1)\n",
            "test_X.shape (10000, 28, 28, 1)\n"
          ],
          "name": "stdout"
        }
      ]
    },
    {
      "cell_type": "markdown",
      "metadata": {
        "id": "uxNprB6MZWDM",
        "colab_type": "text"
      },
      "source": [
        "Our data is actually in 2D array so we dont have to convert it otherwise we have to convert our 1D data to 2D data !!\n",
        "\n",
        "`X_train = X_train.reshape(X_train.shape[0], img_rows, img_cols, 1)`\n",
        "\n",
        "`X_test = X_test.reshape(X_test.shape[0], img_rows, img_cols, 1)`\n",
        "\n",
        "`X_val = X_val.reshape(X_val.shape[0], img_rows, img_cols, 1)`\n"
      ]
    },
    {
      "cell_type": "code",
      "metadata": {
        "id": "bf6RJHaX0XaX",
        "colab_type": "code",
        "outputId": "817c30c9-2e21-4823-c914-77cf5ce16f40",
        "colab": {
          "base_uri": "https://localhost:8080/",
          "height": 572
        }
      },
      "source": [
        "# Creating model using Keras in tensorflow..!!\n",
        "\n",
        "# We are using sequential model ->  linear stacks of layers\n",
        "\n",
        "'''\n",
        "Here we are using Convolution Neural Network (CNN)\n",
        "\n",
        "\n",
        "\n",
        "'''\n",
        "\n",
        "model = keras.Sequential([\n",
        "    \n",
        "    keras.layers.Conv2D(32, kernel_size=(3, 3),\n",
        "                            activation=tf.nn.relu,\n",
        "                            kernel_initializer='ones',\n",
        "                            input_shape=(28, 28, 1)),\n",
        "    keras.layers.MaxPool2D((2,2)),\n",
        "    \n",
        "    keras.layers.Dropout(0.2),\n",
        "    \n",
        "    keras.layers.Conv2D(64, kernel_size=(3, 3),\n",
        "                            activation=tf.nn.relu),\n",
        "    \n",
        "    keras.layers.MaxPool2D((2,2)),\n",
        "    \n",
        "    keras.layers.Dropout(0.2),\n",
        "    \n",
        "    keras.layers.Conv2D(128, kernel_size=(3, 3),\n",
        "                            activation=tf.nn.relu),\n",
        "    \n",
        "    keras.layers.Flatten(),\n",
        "    \n",
        "    keras.layers.Dropout(0.2),\n",
        "                                                    \n",
        "    keras.layers.Dense(128,activation=tf.nn.relu),\n",
        "    \n",
        "    keras.layers.Dense(64,activation=tf.nn.relu),\n",
        "                                                   \n",
        "    keras.layers.Dense(10,activation=tf.nn.softmax) # softmax returns an array of 10 probability scores that sum to 1\n",
        "# Each node contains a score that indicates the probability that the current image belongs to one of the 10 classes.\n",
        "])\n",
        "\n",
        "model.summary()"
      ],
      "execution_count": 30,
      "outputs": [
        {
          "output_type": "stream",
          "text": [
            "Model: \"sequential_3\"\n",
            "_________________________________________________________________\n",
            "Layer (type)                 Output Shape              Param #   \n",
            "=================================================================\n",
            "conv2d_5 (Conv2D)            (None, 26, 26, 32)        320       \n",
            "_________________________________________________________________\n",
            "max_pooling2d_2 (MaxPooling2 (None, 13, 13, 32)        0         \n",
            "_________________________________________________________________\n",
            "dropout_3 (Dropout)          (None, 13, 13, 32)        0         \n",
            "_________________________________________________________________\n",
            "conv2d_6 (Conv2D)            (None, 11, 11, 64)        18496     \n",
            "_________________________________________________________________\n",
            "max_pooling2d_3 (MaxPooling2 (None, 5, 5, 64)          0         \n",
            "_________________________________________________________________\n",
            "dropout_4 (Dropout)          (None, 5, 5, 64)          0         \n",
            "_________________________________________________________________\n",
            "conv2d_7 (Conv2D)            (None, 3, 3, 128)         73856     \n",
            "_________________________________________________________________\n",
            "flatten_3 (Flatten)          (None, 1152)              0         \n",
            "_________________________________________________________________\n",
            "dropout_5 (Dropout)          (None, 1152)              0         \n",
            "_________________________________________________________________\n",
            "dense_7 (Dense)              (None, 128)               147584    \n",
            "_________________________________________________________________\n",
            "dense_8 (Dense)              (None, 64)                8256      \n",
            "_________________________________________________________________\n",
            "dense_9 (Dense)              (None, 10)                650       \n",
            "=================================================================\n",
            "Total params: 249,162\n",
            "Trainable params: 249,162\n",
            "Non-trainable params: 0\n",
            "_________________________________________________________________\n"
          ],
          "name": "stdout"
        }
      ]
    },
    {
      "cell_type": "code",
      "metadata": {
        "id": "fjzl0wWI2jTY",
        "colab_type": "code",
        "colab": {}
      },
      "source": [
        "####\n",
        "'''\n",
        "Loss function  - measure how accurate our model is during training. \n",
        "We want to minimize the loss function to reach optimal solution.\n",
        "\n",
        "Optimizer - updates the model based on data and loss value -> like gradient descent!!\n",
        "\n",
        "Metrics - monitor training and testing steps \n",
        "\n",
        "Accuray - monitors how much of our data is accurately classified\n",
        "\n",
        "'''\n",
        "####\n",
        "model.compile(optimizer=\"adam\",\n",
        "             loss=\"sparse_categorical_crossentropy\",\n",
        "             metrics=[\"accuracy\"])"
      ],
      "execution_count": 0,
      "outputs": []
    },
    {
      "cell_type": "code",
      "metadata": {
        "id": "urYteya05qhM",
        "colab_type": "code",
        "outputId": "3e7ae881-0765-4d26-843a-421d7e19885f",
        "colab": {
          "base_uri": "https://localhost:8080/",
          "height": 1000
        }
      },
      "source": [
        "# the model is \"fit\" to the training data \n",
        "\n",
        "# Epochs - how many time to go through data!\n",
        "\n",
        "history = model.fit(x_train,y_train,\n",
        "                    batch_size = 100,\n",
        "                    validation_data = (x_val,y_val),\n",
        "                    epochs=30,\n",
        "                   verbose = 1)"
      ],
      "execution_count": 32,
      "outputs": [
        {
          "output_type": "stream",
          "text": [
            "Train on 48000 samples, validate on 12000 samples\n",
            "Epoch 1/30\n",
            "48000/48000 [==============================] - 46s 963us/sample - loss: 0.7578 - acc: 0.7173 - val_loss: 0.5174 - val_acc: 0.8144\n",
            "Epoch 2/30\n",
            "48000/48000 [==============================] - 46s 957us/sample - loss: 0.5261 - acc: 0.8023 - val_loss: 0.4462 - val_acc: 0.8330\n",
            "Epoch 3/30\n",
            "48000/48000 [==============================] - 47s 983us/sample - loss: 0.4717 - acc: 0.8230 - val_loss: 0.4125 - val_acc: 0.8437\n",
            "Epoch 4/30\n",
            "48000/48000 [==============================] - 48s 1ms/sample - loss: 0.4447 - acc: 0.8322 - val_loss: 0.4031 - val_acc: 0.8519\n",
            "Epoch 5/30\n",
            "48000/48000 [==============================] - 49s 1ms/sample - loss: 0.4316 - acc: 0.8374 - val_loss: 0.3827 - val_acc: 0.8578\n",
            "Epoch 6/30\n",
            "48000/48000 [==============================] - 51s 1ms/sample - loss: 0.4117 - acc: 0.8436 - val_loss: 0.3887 - val_acc: 0.8567\n",
            "Epoch 7/30\n",
            "48000/48000 [==============================] - 57s 1ms/sample - loss: 0.3972 - acc: 0.8478 - val_loss: 0.3692 - val_acc: 0.8620\n",
            "Epoch 8/30\n",
            "48000/48000 [==============================] - 57s 1ms/sample - loss: 0.3915 - acc: 0.8501 - val_loss: 0.3640 - val_acc: 0.8626\n",
            "Epoch 9/30\n",
            "48000/48000 [==============================] - 56s 1ms/sample - loss: 0.3802 - acc: 0.8549 - val_loss: 0.3587 - val_acc: 0.8648\n",
            "Epoch 10/30\n",
            "48000/48000 [==============================] - 57s 1ms/sample - loss: 0.3726 - acc: 0.8562 - val_loss: 0.3582 - val_acc: 0.8643\n",
            "Epoch 11/30\n",
            "48000/48000 [==============================] - 57s 1ms/sample - loss: 0.3671 - acc: 0.8588 - val_loss: 0.3458 - val_acc: 0.8673\n",
            "Epoch 12/30\n",
            "48000/48000 [==============================] - 56s 1ms/sample - loss: 0.3641 - acc: 0.8601 - val_loss: 0.3480 - val_acc: 0.8684\n",
            "Epoch 13/30\n",
            "48000/48000 [==============================] - 57s 1ms/sample - loss: 0.3521 - acc: 0.8631 - val_loss: 0.3629 - val_acc: 0.8626\n",
            "Epoch 14/30\n",
            "48000/48000 [==============================] - 52s 1ms/sample - loss: 0.3437 - acc: 0.8675 - val_loss: 0.3334 - val_acc: 0.8734\n",
            "Epoch 15/30\n",
            "48000/48000 [==============================] - 46s 957us/sample - loss: 0.3440 - acc: 0.8671 - val_loss: 0.3348 - val_acc: 0.8740\n",
            "Epoch 16/30\n",
            "48000/48000 [==============================] - 46s 954us/sample - loss: 0.3334 - acc: 0.8711 - val_loss: 0.3320 - val_acc: 0.8741\n",
            "Epoch 17/30\n",
            "48000/48000 [==============================] - 46s 955us/sample - loss: 0.3298 - acc: 0.8723 - val_loss: 0.3253 - val_acc: 0.8769\n",
            "Epoch 18/30\n",
            "48000/48000 [==============================] - 46s 955us/sample - loss: 0.3257 - acc: 0.8726 - val_loss: 0.3245 - val_acc: 0.8783\n",
            "Epoch 19/30\n",
            "48000/48000 [==============================] - 46s 957us/sample - loss: 0.3198 - acc: 0.8749 - val_loss: 0.3397 - val_acc: 0.8719\n",
            "Epoch 20/30\n",
            "48000/48000 [==============================] - 46s 954us/sample - loss: 0.3168 - acc: 0.8762 - val_loss: 0.3284 - val_acc: 0.8754\n",
            "Epoch 21/30\n",
            "48000/48000 [==============================] - 46s 953us/sample - loss: 0.3133 - acc: 0.8779 - val_loss: 0.3180 - val_acc: 0.8841\n",
            "Epoch 22/30\n",
            "48000/48000 [==============================] - 46s 952us/sample - loss: 0.3043 - acc: 0.8809 - val_loss: 0.3276 - val_acc: 0.8777\n",
            "Epoch 23/30\n",
            "48000/48000 [==============================] - 46s 955us/sample - loss: 0.3005 - acc: 0.8817 - val_loss: 0.3287 - val_acc: 0.8746\n",
            "Epoch 24/30\n",
            "48000/48000 [==============================] - 46s 962us/sample - loss: 0.2959 - acc: 0.8836 - val_loss: 0.3178 - val_acc: 0.8823\n",
            "Epoch 25/30\n",
            "48000/48000 [==============================] - 46s 968us/sample - loss: 0.2949 - acc: 0.8852 - val_loss: 0.3150 - val_acc: 0.8823\n",
            "Epoch 26/30\n",
            "48000/48000 [==============================] - 46s 962us/sample - loss: 0.2921 - acc: 0.8860 - val_loss: 0.3231 - val_acc: 0.8787\n",
            "Epoch 27/30\n",
            "48000/48000 [==============================] - 46s 960us/sample - loss: 0.2870 - acc: 0.8877 - val_loss: 0.3164 - val_acc: 0.8821\n",
            "Epoch 28/30\n",
            "48000/48000 [==============================] - 46s 956us/sample - loss: 0.2814 - acc: 0.8894 - val_loss: 0.3032 - val_acc: 0.8882\n",
            "Epoch 29/30\n",
            "48000/48000 [==============================] - 46s 962us/sample - loss: 0.2825 - acc: 0.8902 - val_loss: 0.3243 - val_acc: 0.8798\n",
            "Epoch 30/30\n",
            "48000/48000 [==============================] - 47s 988us/sample - loss: 0.2750 - acc: 0.8923 - val_loss: 0.3092 - val_acc: 0.8875\n"
          ],
          "name": "stdout"
        }
      ]
    },
    {
      "cell_type": "code",
      "metadata": {
        "id": "zfPDKAzk509J",
        "colab_type": "code",
        "outputId": "1d477f6f-8667-4eb1-e145-950fcfd43265",
        "colab": {
          "base_uri": "https://localhost:8080/",
          "height": 52
        }
      },
      "source": [
        "# compare how the model performs on the test dataset\n",
        "\n",
        "test_loss,test_acc = model.evaluate(test_X,test_y)\n",
        "print(\"test accuracy = \",test_acc)"
      ],
      "execution_count": 33,
      "outputs": [
        {
          "output_type": "stream",
          "text": [
            "10000/10000 [==============================] - 3s 316us/sample - loss: 0.3379 - acc: 0.8772\n",
            "test accuracy =  0.8772\n"
          ],
          "name": "stdout"
        }
      ]
    },
    {
      "cell_type": "code",
      "metadata": {
        "id": "vgzy69o3mCY0",
        "colab_type": "code",
        "colab": {
          "base_uri": "https://localhost:8080/",
          "height": 545
        },
        "outputId": "420b6d45-9d2c-4b77-ee24-14d319c3b9af"
      },
      "source": [
        "import matplotlib.pyplot as plt\n",
        "%matplotlib inline\n",
        "accuracy = history.history['acc']\n",
        "val_accuracy = history.history['val_acc']\n",
        "loss = history.history['loss']\n",
        "val_loss = history.history['val_loss']\n",
        "epochs = range(len(accuracy))\n",
        "plt.plot(epochs, accuracy, 'bo', label='Training accuracy')\n",
        "plt.plot(epochs, val_accuracy, 'b', label='Validation accuracy')\n",
        "plt.title('Training and validation accuracy')\n",
        "plt.legend()\n",
        "plt.figure()\n",
        "plt.plot(epochs, loss, 'bo', label='Training loss')\n",
        "plt.plot(epochs, val_loss, 'b', label='Validation loss')\n",
        "plt.title('Training and validation loss')\n",
        "plt.legend()\n",
        "plt.show()"
      ],
      "execution_count": 34,
      "outputs": [
        {
          "output_type": "display_data",
          "data": {
            "image/png": "[encoded data removed]",
            "text/plain": [
              "<Figure size 432x288 with 1 Axes>"
            ]
          },
          "metadata": {
            "tags": []
          }
        },
        {
          "output_type": "display_data",
          "data": {
            "image/png": "[encoded data removed]",
            "text/plain": [
              "<Figure size 432x288 with 1 Axes>"
            ]
          },
          "metadata": {
            "tags": []
          }
        }
      ]
    },
    {
      "cell_type": "code",
      "metadata": {
        "id": "mT4EiAqj6onJ",
        "colab_type": "code",
        "colab": {}
      },
      "source": [
        "## Lets make predictions :D\n",
        "\n",
        "# model.predict with image as test_X we can predict and classify the data properly!!\n",
        "predictions = model.predict(test_X)"
      ],
      "execution_count": 0,
      "outputs": []
    },
    {
      "cell_type": "code",
      "metadata": {
        "id": "HBVwW1EQ7L8B",
        "colab_type": "code",
        "outputId": "9bf7a078-210e-4e7d-8e1f-07f8a8df7aa3",
        "colab": {
          "base_uri": "https://localhost:8080/",
          "height": 69
        }
      },
      "source": [
        "# This predictions values are too much of hassel lets get argmax function to get best value out of all 10.\n",
        "predictions[0]"
      ],
      "execution_count": 36,
      "outputs": [
        {
          "output_type": "execute_result",
          "data": {
            "text/plain": [
              "array([7.5223932e-07, 3.2392265e-06, 3.6277370e-08, 5.2270485e-07,\n",
              "       1.7051299e-10, 1.9985740e-04, 1.6934679e-05, 2.4979459e-03,\n",
              "       3.6147916e-09, 9.9728072e-01], dtype=float32)"
            ]
          },
          "metadata": {
            "tags": []
          },
          "execution_count": 36
        }
      ]
    },
    {
      "cell_type": "code",
      "metadata": {
        "id": "kM5eJsuDA7k4",
        "colab_type": "code",
        "outputId": "793f16f9-99c5-4f5f-fa29-b7973499d69b",
        "colab": {
          "base_uri": "https://localhost:8080/",
          "height": 35
        }
      },
      "source": [
        "# Best value out of all !!\n",
        "np.argmax(predictions[0])"
      ],
      "execution_count": 37,
      "outputs": [
        {
          "output_type": "execute_result",
          "data": {
            "text/plain": [
              "9"
            ]
          },
          "metadata": {
            "tags": []
          },
          "execution_count": 37
        }
      ]
    },
    {
      "cell_type": "code",
      "metadata": {
        "id": "KYgeMrqzA-or",
        "colab_type": "code",
        "outputId": "efb91eec-d5f0-43e5-e22b-76f7bccdf426",
        "colab": {
          "base_uri": "https://localhost:8080/",
          "height": 35
        }
      },
      "source": [
        "# Crosscheck whether our model accurately classify or not!\n",
        "test_y[0]"
      ],
      "execution_count": 38,
      "outputs": [
        {
          "output_type": "execute_result",
          "data": {
            "text/plain": [
              "9"
            ]
          },
          "metadata": {
            "tags": []
          },
          "execution_count": 38
        }
      ]
    },
    {
      "cell_type": "code",
      "metadata": {
        "id": "u0PXlfKzBEIz",
        "colab_type": "code",
        "colab": {}
      },
      "source": [
        ""
      ],
      "execution_count": 0,
      "outputs": []
    }
  ]
}